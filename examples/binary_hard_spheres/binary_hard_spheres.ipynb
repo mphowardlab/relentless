{
 "cells": [
  {
   "cell_type": "markdown",
   "metadata": {},
   "source": [
    "Suppose that we have a binary mixture of components 1 & 2. It is known that component 1 has a radius of 1, but the radius of component 2 is unknown. Given the rdfs (rdf_11.dat, rdf_12.dat, & rdf_22.dat), the self-interaction parameter sigma_22 and cross-interaction parameter sigma_12 are found by minimizing the relative entropy. Assume the system is dilute. "
   ]
  },
  {
   "cell_type": "code",
   "execution_count": null,
   "metadata": {},
   "outputs": [],
   "source": [
    "import relentless\n",
    "import numpy"
   ]
  },
  {
   "cell_type": "markdown",
   "metadata": {},
   "source": [
    "Define a directory for the simulation to take place in. This can be a absolute or relative path."
   ]
  },
  {
   "cell_type": "code",
   "execution_count": 3,
   "metadata": {},
   "outputs": [],
   "source": [
    "dir = 'simulation/'"
   ]
  },
  {
   "cell_type": "markdown",
   "metadata": {},
   "source": [
    "Define the variables for the simulation. Static variables are define by setting the variable equal to an integer or float. Design variables are set using <code> 'relentless.model.variable.DesignVariable(value, low, high) </code>"
   ]
  },
  {
   "cell_type": "code",
   "execution_count": null,
   "metadata": {},
   "outputs": [],
   "source": [
    "sigma_11 = 1\n",
    "sigma_12 = relentless.model.variable.DesignVariable(value=1, low=0.5, high=5.0)\n",
    "sigma_22 = relentless.model.variable.DesignVariable(value=1, low=0.5, high=5.0)\n",
    "epsilon = 1\n",
    "vars = [sigma_12, sigma_22]"
   ]
  },
  {
   "cell_type": "markdown",
   "metadata": {},
   "source": [
    "Set up the hard core potential. Ensure that the potential is defined in terms of the design variables. "
   ]
  },
  {
   "cell_type": "code",
   "execution_count": null,
   "metadata": {},
   "outputs": [],
   "source": [
    "wca = relentless.model.potential.LennardJones(types=('1','2'))\n",
    "wca.coeff['1', '1'].update({\n",
    "    'epsilon': epsilon, 'sigma': sigma_11, 'rmax': 2.**(1./6.)*sigma_11,\n",
    "    'shift': True\n",
    "    })\n",
    "wca.coeff['1', '2'].update({\n",
    "    'epsilon': epsilon, 'sigma': sigma_12, 'rmax': 2.**(1./6.)*sigma_12,\n",
    "    'shift': True\n",
    "    })\n",
    "wca.coeff['2', '2'].update({\n",
    "    'epsilon': epsilon, 'sigma': sigma_22, 'rmax': 2.**(1./6.)*sigma_22,\n",
    "    'shift': True\n",
    "    })\n",
    "\n",
    "pot = relentless.simulate.Potentials([wca])\n",
    "pot.pair.rmax = 5*2**(1/6.)\n",
    "pot.pair.rmin = 1e-2\n",
    "pot.pair.num = 100\n",
    "pot.pair.neighbor_buffer = 0.5"
   ]
  },
  {
   "cell_type": "markdown",
   "metadata": {},
   "source": [
    "Load the RDFs so that they may be used later to define a target ensemble."
   ]
  },
  {
   "cell_type": "code",
   "execution_count": null,
   "metadata": {},
   "outputs": [],
   "source": [
    "rdf_11 = relentless.mpi.world.loadtxt('rdf_11.dat')\n",
    "rdf_12 = relentless.mpi.world.loadtxt('rdf_12.dat')\n",
    "rdf_22 = relentless.mpi.world.loadtxt('rdf_22.dat')"
   ]
  },
  {
   "cell_type": "markdown",
   "metadata": {},
   "source": [
    "Set up a target ensemble and attach the RDFs to each type pair."
   ]
  },
  {
   "cell_type": "code",
   "execution_count": null,
   "metadata": {},
   "outputs": [],
   "source": [
    "target = relentless.model.Ensemble( T=1.5, \n",
    "                                    V=relentless.model.extent.Cube(L=10.0),\n",
    "                                    N={\"1\": 25, \"2\": 25})\n",
    "target.rdf['1','1'] = relentless.model.ensemble.RDF(rdf_11[:,0],rdf_11[:,1])\n",
    "target.rdf['1','2'] = relentless.model.ensemble.RDF(rdf_12[:,0],rdf_12[:,1])\n",
    "target.rdf['2','2'] = relentless.model.ensemble.RDF(rdf_12[:,0],rdf_22[:,1])"
   ]
  },
  {
   "cell_type": "markdown",
   "metadata": {},
   "source": [
    " A dilute simulation assumes $g_{ij}(r) = e^{-\\beta u_{ij}(r)}$. The initializer and langevin dynamics do not affect dilute simulations, but they are required to run the simulation. The analyzer implements the physics of the dilute simulation. "
   ]
  },
  {
   "cell_type": "code",
   "execution_count": null,
   "metadata": {},
   "outputs": [],
   "source": [
    "init = relentless.simulate.InitializeRandomly(seed=42,N={'1':25, '2':25},\n",
    "                                        V=relentless.model.extent.Cube(L=25.0),\n",
    "                                        diameters={'1':1, '2':3})\n",
    "\n",
    "anly  = relentless.simulate.EnsembleAverage(check_thermo_every=1,\n",
    "                                                check_rdf_every=1,\n",
    "                                                rdf_dr=0.005)\n",
    "\n",
    "\n",
    "lgv = relentless.simulate.RunLangevinDynamics(steps=5000, timestep=0.005, T=1,\n",
    "                                friction=0.1, seed=2, analyzers=[anly])\n",
    "\n",
    "sim = relentless.simulate.Dilute(init,operations=[lgv])"
   ]
  },
  {
   "cell_type": "markdown",
   "metadata": {},
   "source": [
    "The relative entropy is defined and then optimized as such: "
   ]
  },
  {
   "cell_type": "code",
   "execution_count": null,
   "metadata": {},
   "outputs": [],
   "source": [
    "relent = relentless.optimize.RelativeEntropy(target, sim, pot, anly)\n",
    "\n",
    "optimizer = relentless.optimize.FixedStepDescent(\n",
    "    stop=relentless.optimize.GradientTest(0.005,vars), \n",
    "    max_iter=100,\n",
    "    step_size=0.5,\n",
    "    line_search=relentless.optimize.LineSearch(0.1,3)\n",
    ")\n",
    "optimizer.optimize(objective=relent, design_variables=vars, directory=relentless.data.Directory('optimizer'))"
   ]
  },
  {
   "cell_type": "markdown",
   "metadata": {},
   "source": [
    "Each step of the optimization is logged in the optimization directory specified above. The final step shows that: sigma_11 $\\approx 2.01$ and sigma_22 $\\approx 4.01$. The RDFs were created with sigma_12 $= 2$ and sigma_22 $= 4$"
   ]
  }
 ],
 "metadata": {
  "interpreter": {
   "hash": "f603fe7098df02cc39760c1764cc3a7b32b76edf58d6cc7358e015613520828a"
  },
  "kernelspec": {
   "display_name": "Python 3.10.4 ('relentless')",
   "language": "python",
   "name": "python3"
  },
  "language_info": {
   "codemirror_mode": {
    "name": "ipython",
    "version": 3
   },
   "file_extension": ".py",
   "mimetype": "text/x-python",
   "name": "python",
   "nbconvert_exporter": "python",
   "pygments_lexer": "ipython3",
   "version": "3.10.4"
  },
  "orig_nbformat": 4
 },
 "nbformat": 4,
 "nbformat_minor": 2
}
