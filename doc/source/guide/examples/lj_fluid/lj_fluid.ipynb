{
 "cells": [
  {
   "attachments": {},
   "cell_type": "markdown",
   "metadata": {},
   "source": [
    "# Simulation of Lennard-Jones Fluid #"
   ]
  },
  {
   "attachments": {},
   "cell_type": "markdown",
   "metadata": {},
   "source": [
    "This example will simulate a WCA fluid in HOOMD-blue and write a trajectory file of the simulation."
   ]
  },
  {
   "cell_type": "code",
   "execution_count": 1,
   "metadata": {},
   "outputs": [],
   "source": [
    "import relentless"
   ]
  },
  {
   "attachments": {},
   "cell_type": "markdown",
   "metadata": {},
   "source": [
    "Define a directory for the simulation to take place in. This can be an absolute or relative path."
   ]
  },
  {
   "cell_type": "code",
   "execution_count": 2,
   "metadata": {},
   "outputs": [],
   "source": [
    "dir = \"lj_fluid_simulation/\""
   ]
  },
  {
   "attachments": {},
   "cell_type": "markdown",
   "metadata": {},
   "source": [
    "Define the $\\sigma$ and $\\epsilon$ parameters of the WCA potential."
   ]
  },
  {
   "cell_type": "code",
   "execution_count": 3,
   "metadata": {},
   "outputs": [],
   "source": [
    "sigma = 1\n",
    "epsilon = 1"
   ]
  },
  {
   "attachments": {},
   "cell_type": "markdown",
   "metadata": {},
   "source": [
    "Set up the Lennard-Jones potential. Ensure that the potential is defined in terms of the design variables when applicable. Then attach the potential to the simulation using  `relentless.simulate.Potentials(pair_potentials=None, kB=1.0)`. The potential's starting point, stopping point, number of subdivisions, and buffer to be added to the end of the stopping point all must be defined. Note: The starting point should be greater than zero. "
   ]
  },
  {
   "cell_type": "code",
   "execution_count": 4,
   "metadata": {},
   "outputs": [],
   "source": [
    "lj = relentless.model.potential.LennardJones(types=(\"1\",))\n",
    "lj.coeff[\"1\", \"1\"].update({\n",
    "    \"epsilon\": epsilon, \"sigma\": sigma, \"rmax\": 3*sigma, \"shift\": True\n",
    "})\n",
    "\n",
    "pot = relentless.simulate.Potentials(lj)\n",
    "pot.pair.start = 1e-6\n",
    "pot.pair.stop = 3*sigma\n",
    "pot.pair.num = 100\n",
    "pot.pair.neighbor_buffer = 0.5"
   ]
  },
  {
   "attachments": {},
   "cell_type": "markdown",
   "metadata": {},
   "source": [
    "Initialize the system using `relentless.simulate.InitializeRandomly`. Relentless 2-dimensional and 3-dimensional boxes. \n",
    "\n",
    "`relentless.simulate.EnsembleAverage` analyzes the simulations thermodynamics properties and radial distribution function. \n",
    "\n",
    "`relentless.simulate.WriteTrajectory` writes a trajectory file of the simulation. \n",
    "\n",
    "The lgv block of code is the molecuar dynamics method to be ran. In this case Langevin dynamics is chosen; however, relentless supports several methods which could have been chosen instead. You can find more information about these in the documentation. "
   ]
  },
  {
   "cell_type": "code",
   "execution_count": 5,
   "metadata": {},
   "outputs": [],
   "source": [
    "init = relentless.simulate.InitializeRandomly(\n",
    "    seed=42,\n",
    "    T=1.5,\n",
    "    V=relentless.model.extent.Cube(L=10.0),\n",
    "    N={\"1\": 100},\n",
    "    diameters={\"1\": 1}\n",
    ")\n",
    "\n",
    "anly = relentless.simulate.EnsembleAverage(\n",
    "    check_thermo_every=10,\n",
    "    check_rdf_every=100,\n",
    "    rdf_dr=0.005\n",
    ")\n",
    "\n",
    "dump = relentless.simulate.WriteTrajectory(\n",
    "    filename='lj_fluid_trajectory.gsd', \n",
    "    every=250\n",
    ")\n",
    "\n",
    "lgv = relentless.simulate.RunLangevinDynamics(\n",
    "    steps=5000,\n",
    "    timestep=0.005,\n",
    "    T=1,\n",
    "    friction=0.1,\n",
    "    seed=2,\n",
    "    analyzers=[anly, dump]\n",
    ")"
   ]
  },
  {
   "attachments": {},
   "cell_type": "markdown",
   "metadata": {},
   "source": [
    "Run the simulation."
   ]
  },
  {
   "cell_type": "code",
   "execution_count": 7,
   "metadata": {},
   "outputs": [],
   "source": [
    "h = relentless.simulate.HOOMD(init, operations=[lgv])\n",
    "sim = h.run(potentials=pot, directory=dir)"
   ]
  }
 ],
 "metadata": {
  "kernelspec": {
   "display_name": "relentless",
   "language": "python",
   "name": "python3"
  },
  "language_info": {
   "codemirror_mode": {
    "name": "ipython",
    "version": 3
   },
   "file_extension": ".py",
   "mimetype": "text/x-python",
   "name": "python",
   "nbconvert_exporter": "python",
   "pygments_lexer": "ipython3",
   "version": "3.10.5 | packaged by conda-forge | (main, Jun 14 2022, 07:09:13) [Clang 13.0.1 ]"
  },
  "orig_nbformat": 4,
  "vscode": {
   "interpreter": {
    "hash": "2febe0fb9ed24084c5c332c6c413685d57788be390aba416bfd9a056c817d298"
   }
  }
 },
 "nbformat": 4,
 "nbformat_minor": 2
}
