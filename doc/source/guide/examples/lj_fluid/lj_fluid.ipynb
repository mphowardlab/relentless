{
 "cells": [
  {
   "attachments": {},
   "cell_type": "markdown",
   "metadata": {},
   "source": [
    "# Simulation of Lennard-Jones Fluid #"
   ]
  },
  {
   "attachments": {},
   "cell_type": "markdown",
   "metadata": {},
   "source": [
    "This example will simulate a simple liquid that interacts *via* the Lennard-Jones pair potential:\n",
    "\n",
    "$$\n",
    "    u(r) = 4 \\varepsilon \\left[ \\left(\\frac{\\sigma}{r} \\right)^{12} - \\left(\\frac{\\sigma}{r}\\right)^6 \\right]\n",
    "$$\n",
    "\n",
    "The Lennard-Jones potential has two parameters: the energy $\\varepsilon$ and the size $\\sigma$.\n",
    "\n",
    "First, we import `relentless`. We don't need to import any simulation packages because `relentless` will take care of this for us."
   ]
  },
  {
   "cell_type": "code",
   "execution_count": 1,
   "metadata": {},
   "outputs": [],
   "source": [
    "import relentless"
   ]
  },
  {
   "attachments": {},
   "cell_type": "markdown",
   "metadata": {},
   "source": [
    "## Model\n",
    "\n",
    "Next, we setup the model. We will assign the type 1 to the particles. We create an instance `lj` of the Lennard-Jones potential. Then, we specify the parameters for interactions between particles of type 1 by updating the pairwise matrix `lj.coeff`:"
   ]
  },
  {
   "cell_type": "code",
   "execution_count": 2,
   "metadata": {},
   "outputs": [],
   "source": [
    "lj = relentless.model.potential.LennardJones(types=(\"1\",))\n",
    "lj.coeff[\"1\", \"1\"].update({\n",
    "    \"epsilon\": 1.0, \"sigma\": 1.0, \"rmax\": 3.0, \"shift\": True\n",
    "})"
   ]
  },
  {
   "attachments": {},
   "cell_type": "markdown",
   "metadata": {},
   "source": [
    "Here, we have chosen $\\varepsilon = 1$ and $\\sigma = 1$. We have also used `rmax` and `shift` options to truncate the potential to zero at $3\\sigma$, which is a common choice for the Lennard-Jones potential.\n",
    "\n",
    "To finish specifying the model, we should also define the thermodynamic state, e.g., the number of particles, the volume, and the temperature. We can conveniently collect this data in an `Ensemble`:"
   ]
  },
  {
   "cell_type": "code",
   "execution_count": 3,
   "metadata": {},
   "outputs": [],
   "source": [
    "state = relentless.model.Ensemble(\n",
    "    T=1.5, V=relentless.model.extent.Cube(L=10.0), N={\"1\": 400}\n",
    ")"
   ]
  },
  {
   "attachments": {},
   "cell_type": "markdown",
   "metadata": {},
   "source": [
    "Here, we have chosen to run the simulation of $N=100$ particles in a cubic box with edge length $L=10$ at temperature $T=1.5$. The units of $L$ are implicit to the model (i.e., they are *same* as $\\sigma$). The units of $T$ are also partially implicit to the model (i.e., they are *related* to the units of $\\varepsilon$) but can be manipulated through the Boltzmann constant $k_{\\rm B}$ that converts between energy and temperature units. By default, $k_{\\rm B} = 1$."
   ]
  },
  {
   "attachments": {},
   "cell_type": "markdown",
   "metadata": {},
   "source": [
    "## Simulation\n",
    "\n",
    "We now need to specify our simulation protocol. `relentless` runs a simulation as a sequence of operations.\n",
    "\n",
    "Every simulation protocol **must** have an initialization operation to set up the system. Here, we will initialize our system in a semi-random configuration. The `diameters` option spaces out the particles so prevent overlap."
   ]
  },
  {
   "cell_type": "code",
   "execution_count": 4,
   "metadata": {},
   "outputs": [],
   "source": [
    "init = relentless.simulate.InitializeRandomly(\n",
    "    seed=42, T=state.T, V=state.V, N=state.N, diameters={\"1\": 1}\n",
    ")"
   ]
  },
  {
   "attachments": {},
   "cell_type": "markdown",
   "metadata": {},
   "source": [
    "After initialization, we can run a sequence of simulation steps. Our first simulation step is a short equilibration using Langevin dynamics:"
   ]
  },
  {
   "cell_type": "code",
   "execution_count": 5,
   "metadata": {},
   "outputs": [],
   "source": [
    "eq = relentless.simulate.RunLangevinDynamics(\n",
    "    steps=10000, timestep=0.005, T=1, friction=0.1, seed=2\n",
    ")"
   ]
  },
  {
   "attachments": {},
   "cell_type": "markdown",
   "metadata": {},
   "source": [
    "Then, we will run a production simulation using Langevin dynamics. We attach an analysis operation to this step so that we can also write a trajectory `filename.gsd` of the particles:"
   ]
  },
  {
   "cell_type": "code",
   "execution_count": 6,
   "metadata": {},
   "outputs": [],
   "source": [
    "dump = relentless.simulate.WriteTrajectory(\n",
    "    filename=\"trajectory.gsd\", every=2000\n",
    ")\n",
    "\n",
    "prod = relentless.simulate.RunLangevinDynamics(\n",
    "    steps=50000, timestep=0.005, T=1, friction=0.1, seed=7, analyzers=dump\n",
    ")"
   ]
  },
  {
   "attachments": {},
   "cell_type": "markdown",
   "metadata": {},
   "source": [
    "Now that we have setup all of our operations, we can combine them together to be run by a particular simulation engine. Here we will use HOOMD-blue to perform the simulation.\n",
    "\n",
    "In order to run this cell, you need to make sure you have `hoomd` and its dependencies like `freud` installed, or you will get an error."
   ]
  },
  {
   "cell_type": "code",
   "execution_count": 7,
   "metadata": {},
   "outputs": [],
   "source": [
    "sim = relentless.simulate.HOOMD(initializer=init, operations=[eq, prod])"
   ]
  },
  {
   "attachments": {},
   "cell_type": "markdown",
   "metadata": {},
   "source": [
    "Now we are almost ready to run the simulation!\n",
    "\n",
    "We need to prepare the model's potentials for the run using `relentless.simulate.Potentials`. This object will turn one or more potentials, which are analytical functions in `relentless`, into a single *tabulated* potential that can be simulated. This means that you need to specify a few additional parameters for the tabulated potential (its starting point, stopping point, and number of subdivisions), along with the buffer that is used to construct pair neighbor lists in many simulation packages.\n",
    "\n",
    " Note: The starting point should be greater than zero, and the stopping point should sized based on where you would typically truncate interactions. These values must be fixed numbers so if you plan to vary any potential parameters, make sure that you either choose them to be enough or also rememnber to update them."
   ]
  },
  {
   "cell_type": "code",
   "execution_count": 8,
   "metadata": {},
   "outputs": [],
   "source": [
    "pot = relentless.simulate.Potentials(lj)\n",
    "pot.pair.start = 1e-6\n",
    "pot.pair.stop = 3.0\n",
    "pot.pair.num = 100\n",
    "pot.pair.neighbor_buffer = 0.5"
   ]
  },
  {
   "attachments": {},
   "cell_type": "markdown",
   "metadata": {},
   "source": [
    "Last, we can run the simulation. An output directory is required for all runs, so here we will use the working directory.\n",
    "\n",
    "This will be the slowest step of this example, but don't worry, it took less than a minute to run on an old laptop."
   ]
  },
  {
   "cell_type": "code",
   "execution_count": 9,
   "metadata": {},
   "outputs": [],
   "source": [
    "result = sim.run(potentials=pot, directory=\".\")"
   ]
  },
  {
   "attachments": {},
   "cell_type": "markdown",
   "metadata": {},
   "source": [
    "The `result` contains data from the run. Some of it can be useful for subsequent analysis, but some of it is just used internally by `relentless`."
   ]
  },
  {
   "attachments": {},
   "cell_type": "markdown",
   "metadata": {},
   "source": [
    "## Analysis\n",
    "\n",
    "To demonstrate that the simulation ran, we perform additional analysis of the trajectory file that was created. We will use the `gsd` package to read the file and the `freud` package to compute the radial distribution function $g(r)$. You need to make sure you have both installed.\n",
    "\n",
    "Note that we use `result.directory` (which is a `relentless.data.Directory`) to get the path to `trajectory.gsd` created by the simulation!"
   ]
  },
  {
   "cell_type": "code",
   "execution_count": 13,
   "metadata": {
    "tags": []
   },
   "outputs": [
    {
     "data": {
      "image/png": "[encoded data removed]",
      "text/plain": [
       "<Figure size 640x480 with 1 Axes>"
      ]
     },
     "metadata": {},
     "output_type": "display_data"
    }
   ],
   "source": [
    "import freud\n",
    "import gsd.hoomd\n",
    "\n",
    "rdf = freud.density.RDF(bins=60, r_max=3.0)\n",
    "with gsd.hoomd.open(result.directory.file(\"trajectory.gsd\")) as traj:\n",
    "    for snap in traj:\n",
    "        rdf.compute(snap, reset=False)\n",
    "rdf.plot();"
   ]
  },
  {
   "attachments": {},
   "cell_type": "markdown",
   "metadata": {},
   "source": [
    "This looks like a typical correlation function for a liquid!"
   ]
  }
 ],
 "metadata": {
  "kernelspec": {
   "display_name": "Python 3",
   "language": "python",
   "name": "python3"
  },
  "language_info": {
   "codemirror_mode": {
    "name": "ipython",
    "version": 3
   },
   "file_extension": ".py",
   "mimetype": "text/x-python",
   "name": "python",
   "nbconvert_exporter": "python",
   "pygments_lexer": "ipython3",
   "version": "3.10.8"
  },
  "vscode": {
   "interpreter": {
    "hash": "6834e2eb4702651dab439b72249722ae87da91a96342472ed2409ca0cf3240b1"
   }
  }
 },
 "nbformat": 4,
 "nbformat_minor": 2
}
